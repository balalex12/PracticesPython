{
 "cells": [
  {
   "cell_type": "code",
   "execution_count": 27,
   "metadata": {},
   "outputs": [
    {
     "name": "stdout",
     "output_type": "stream",
     "text": [
      "The sum is 15\n"
     ]
    }
   ],
   "source": [
    "#Calculate sum of all numbers included in the list.\n",
    "num_list = [0,1,2,3,4,5]\n",
    "def list_sum(num_list):\n",
    "    sum = 0\n",
    "    for num in num_list:\n",
    "        sum += num\n",
    "    print(\"The sum is \"+str(sum))\n",
    "list_sum(num_list)"
   ]
  },
  {
   "cell_type": "code",
   "execution_count": 44,
   "metadata": {},
   "outputs": [
    {
     "name": "stdout",
     "output_type": "stream",
     "text": [
      "3\n"
     ]
    }
   ],
   "source": [
    "#Show a random number from a list.\n",
    "\n",
    "import secrets\n",
    "\n",
    "x = [0,1,2,3,4,5]\n",
    "print(secrets.choice(x))"
   ]
  },
  {
   "cell_type": "code",
   "execution_count": 51,
   "metadata": {},
   "outputs": [
    {
     "name": "stdout",
     "output_type": "stream",
     "text": [
      "20\n"
     ]
    }
   ],
   "source": [
    "#Calculate the number of amount letters in a txt file.\n",
    "\n",
    "with open(\"Mayus.txt\") as f:\n",
    "    count = 0\n",
    "    text= f.read()\n",
    "    for character in text:\n",
    "        if character.isupper():\n",
    "            count += 1\n",
    "    print(count)"
   ]
  },
  {
   "cell_type": "code",
   "execution_count": 55,
   "metadata": {},
   "outputs": [],
   "source": [
    "#Save an image with a python library if the url is known.\n",
    "\n",
    "import requests\n",
    "url_imagen = \"https://cdn.pixabay.com/photo/2020/04/23/16/45/eagle-5083248_960_720.jpg\"\n",
    "name_imagen = \"Halcon.jpg\"\n",
    "imagen = requests.get(url_imagen).content\n",
    "with open(name_imagen, 'wb') as handler:\n",
    "    handler.write(imagen)"
   ]
  },
  {
   "cell_type": "code",
   "execution_count": 66,
   "metadata": {},
   "outputs": [
    {
     "data": {
      "text/plain": [
       "'Hi Mundo'"
      ]
     },
     "execution_count": 66,
     "metadata": {},
     "output_type": "execute_result"
    }
   ],
   "source": [
    "#Replace a specific word with another\n",
    "import re\n",
    "\n",
    "text = \"Hola Mundo\"\n",
    "re.sub(\"Hola\",\"Hi\",text)\n"
   ]
  },
  {
   "cell_type": "code",
   "execution_count": 65,
   "metadata": {},
   "outputs": [
    {
     "data": {
      "text/plain": [
       "('Hi Mundo', 1)"
      ]
     },
     "execution_count": 65,
     "metadata": {},
     "output_type": "execute_result"
    }
   ],
   "source": [
    "#Replace a word and return the replacement amount\n",
    "re.subn(\"Hola\",\"Hi\",text)"
   ]
  },
  {
   "cell_type": "code",
   "execution_count": 107,
   "metadata": {},
   "outputs": [
    {
     "name": "stdout",
     "output_type": "stream",
     "text": [
      "This number is not the range: 65\n",
      "This number is greater than 50\n"
     ]
    }
   ],
   "source": [
    "\"\"\"\n",
    "Generate a random number between 1 and 120.\n",
    "Say if it is in the range between 10 and 50, or if it is greater than 50 up to 100,\n",
    "or if it is greater than 100, or if it is less than 10.\n",
    "\"\"\"\n",
    "import random\n",
    "number = random.randint(1, 120)\n",
    "\n",
    "if number in range(10, 50):\n",
    "    print(\"This number is the range: \"+str(number))    \n",
    "else: \n",
    "    print(\"This number is not the range: \"+str(number))\n",
    "    if number in range(50, 100):\n",
    "        print(\"This number is greater than 50\")\n",
    "    elif number > 100:\n",
    "        print(\"This number is greater than 100 \")\n",
    "    else:\n",
    "        print(\"This number is less than 10 \")\n"
   ]
  },
  {
   "cell_type": "code",
   "execution_count": 100,
   "metadata": {},
   "outputs": [
    {
     "data": {
      "text/plain": [
       "[10, 12, 14, 16, 18]"
      ]
     },
     "execution_count": 100,
     "metadata": {},
     "output_type": "execute_result"
    }
   ],
   "source": [
    "\"\"\"\n",
    "List the even numbers from 10 to 20\n",
    "\"\"\"\n",
    "list_pairs = []\n",
    "for i in range(10, 20, 2):\n",
    "    list_pairs.append(i)\n",
    "list_pairs"
   ]
  },
  {
   "cell_type": "code",
   "execution_count": 106,
   "metadata": {},
   "outputs": [
    {
     "name": "stdout",
     "output_type": "stream",
     "text": [
      "510\n"
     ]
    }
   ],
   "source": [
    "\"\"\"\n",
    "Geometric progression\n",
    "Calculate how many grains of wheat we would have to use if for each square on a chessboard\n",
    "Let's put one grain in the first box, two in the second, four in the third, and so on, doubling up to the last.\n",
    "\"\"\"\n",
    "chess_vertical= 8\n",
    "i = 0\n",
    "grains = 1\n",
    "wheats = 0\n",
    "while i < chess_vertical:\n",
    "    grains *=2\n",
    "    wheats += grains\n",
    "    i += 1\n",
    "print(wheats)"
   ]
  },
  {
   "cell_type": "code",
   "execution_count": null,
   "metadata": {},
   "outputs": [],
   "source": []
  }
 ],
 "metadata": {
  "kernelspec": {
   "display_name": "Python 3",
   "language": "python",
   "name": "python3"
  },
  "language_info": {
   "codemirror_mode": {
    "name": "ipython",
    "version": 3
   },
   "file_extension": ".py",
   "mimetype": "text/x-python",
   "name": "python",
   "nbconvert_exporter": "python",
   "pygments_lexer": "ipython3",
   "version": "3.8.5"
  }
 },
 "nbformat": 4,
 "nbformat_minor": 4
}
